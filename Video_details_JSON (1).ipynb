{
  "nbformat": 4,
  "nbformat_minor": 0,
  "metadata": {
    "colab": {
      "provenance": []
    },
    "kernelspec": {
      "name": "python3",
      "display_name": "Python 3"
    },
    "language_info": {
      "name": "python"
    }
  },
  "cells": [
    {
      "cell_type": "code",
      "execution_count": 1,
      "metadata": {
        "id": "AXym41hcuEhN"
      },
      "outputs": [],
      "source": [
        "import json\n",
        "import requests\n",
        "import pandas as pd\n",
        "import numpy as np\n",
        "\n"
      ]
    },
    {
      "cell_type": "code",
      "source": [
        "pip install mediapipe"
      ],
      "metadata": {
        "colab": {
          "base_uri": "https://localhost:8080/"
        },
        "id": "GbrqXLcC6i0m",
        "outputId": "01843657-9f51-40a5-ed9e-ce6c908994df"
      },
      "execution_count": 10,
      "outputs": [
        {
          "output_type": "stream",
          "name": "stdout",
          "text": [
            "Looking in indexes: https://pypi.org/simple, https://us-python.pkg.dev/colab-wheels/public/simple/\n",
            "Collecting mediapipe\n",
            "  Downloading mediapipe-0.9.1.0-cp39-cp39-manylinux_2_17_x86_64.manylinux2014_x86_64.whl (33.0 MB)\n",
            "\u001b[2K     \u001b[90m━━━━━━━━━━━━━━━━━━━━━━━━━━━━━━━━━━━━━━━━\u001b[0m \u001b[32m33.0/33.0 MB\u001b[0m \u001b[31m36.2 MB/s\u001b[0m eta \u001b[36m0:00:00\u001b[0m\n",
            "\u001b[?25hRequirement already satisfied: matplotlib in /usr/local/lib/python3.9/dist-packages (from mediapipe) (3.7.1)\n",
            "Requirement already satisfied: attrs>=19.1.0 in /usr/local/lib/python3.9/dist-packages (from mediapipe) (22.2.0)\n",
            "Requirement already satisfied: absl-py in /usr/local/lib/python3.9/dist-packages (from mediapipe) (1.4.0)\n",
            "Requirement already satisfied: protobuf<4,>=3.11 in /usr/local/lib/python3.9/dist-packages (from mediapipe) (3.19.6)\n",
            "Requirement already satisfied: opencv-contrib-python in /usr/local/lib/python3.9/dist-packages (from mediapipe) (4.6.0.66)\n",
            "Requirement already satisfied: flatbuffers>=2.0 in /usr/local/lib/python3.9/dist-packages (from mediapipe) (23.3.3)\n",
            "Requirement already satisfied: numpy in /usr/local/lib/python3.9/dist-packages (from mediapipe) (1.22.4)\n",
            "Requirement already satisfied: pillow>=6.2.0 in /usr/local/lib/python3.9/dist-packages (from matplotlib->mediapipe) (8.4.0)\n",
            "Requirement already satisfied: python-dateutil>=2.7 in /usr/local/lib/python3.9/dist-packages (from matplotlib->mediapipe) (2.8.2)\n",
            "Requirement already satisfied: contourpy>=1.0.1 in /usr/local/lib/python3.9/dist-packages (from matplotlib->mediapipe) (1.0.7)\n",
            "Requirement already satisfied: kiwisolver>=1.0.1 in /usr/local/lib/python3.9/dist-packages (from matplotlib->mediapipe) (1.4.4)\n",
            "Requirement already satisfied: importlib-resources>=3.2.0 in /usr/local/lib/python3.9/dist-packages (from matplotlib->mediapipe) (5.12.0)\n",
            "Requirement already satisfied: cycler>=0.10 in /usr/local/lib/python3.9/dist-packages (from matplotlib->mediapipe) (0.11.0)\n",
            "Requirement already satisfied: pyparsing>=2.3.1 in /usr/local/lib/python3.9/dist-packages (from matplotlib->mediapipe) (3.0.9)\n",
            "Requirement already satisfied: fonttools>=4.22.0 in /usr/local/lib/python3.9/dist-packages (from matplotlib->mediapipe) (4.39.0)\n",
            "Requirement already satisfied: packaging>=20.0 in /usr/local/lib/python3.9/dist-packages (from matplotlib->mediapipe) (23.0)\n",
            "Requirement already satisfied: zipp>=3.1.0 in /usr/local/lib/python3.9/dist-packages (from importlib-resources>=3.2.0->matplotlib->mediapipe) (3.15.0)\n",
            "Requirement already satisfied: six>=1.5 in /usr/local/lib/python3.9/dist-packages (from python-dateutil>=2.7->matplotlib->mediapipe) (1.15.0)\n",
            "Installing collected packages: mediapipe\n",
            "Successfully installed mediapipe-0.9.1.0\n"
          ]
        }
      ]
    },
    {
      "cell_type": "code",
      "source": [
        "import cv2\n",
        "from cv2 import destroyAllWindows\n",
        "import mediapipe as mp\n",
        "import numpy as np\n",
        "mp_drawing = mp.solutions.drawing_utils\n",
        "mp_drawing_styles = mp.solutions.drawing_styles\n",
        "mp_pose = mp.solutions.pose\n",
        "mp_pose"
      ],
      "metadata": {
        "colab": {
          "base_uri": "https://localhost:8080/"
        },
        "id": "DJzMjfYb6bo4",
        "outputId": "54358c08-a842-4371-e761-687f2d913c61"
      },
      "execution_count": 12,
      "outputs": [
        {
          "output_type": "execute_result",
          "data": {
            "text/plain": [
              "<module 'mediapipe.python.solutions.pose' from '/usr/local/lib/python3.9/dist-packages/mediapipe/python/solutions/pose.py'>"
            ]
          },
          "metadata": {},
          "execution_count": 12
        }
      ]
    },
    {
      "cell_type": "code",
      "source": [
        "with open(\"J_01.json\", \"r\") as read_file:\n",
        "    j1 = json.load(read_file)\n",
        "    jj1=j1['squats']\n",
        "#df_j1=pd.DataFrame.from_dict(j1['squats'], orient='columns', dtype=None, columns=None)\n",
        "\n",
        "#df_j1\n",
        "jj1"
      ],
      "metadata": {
        "id": "mN-hbk2IwErR",
        "colab": {
          "base_uri": "https://localhost:8080/"
        },
        "outputId": "769df465-a914-4097-8ce0-190748ca1f07"
      },
      "execution_count": 2,
      "outputs": [
        {
          "output_type": "execute_result",
          "data": {
            "text/plain": [
              "[{'in_and_out': [45, 100, 108, 164, 170, 230, 240, 292, 300, 353],\n",
              "  'class_label': ['correct', 'correct', 'correct', 'correct', 'correct']}]"
            ]
          },
          "metadata": {},
          "execution_count": 2
        }
      ]
    },
    {
      "cell_type": "code",
      "source": [
        "with open(\"J_02.json\", \"r\") as read_file:\n",
        "    j2 = json.load(read_file)"
      ],
      "metadata": {
        "id": "a4Fbr0htx8_d"
      },
      "execution_count": 3,
      "outputs": []
    },
    {
      "cell_type": "code",
      "source": [
        "print(j2)"
      ],
      "metadata": {
        "colab": {
          "base_uri": "https://localhost:8080/"
        },
        "id": "iIvHnzyHy4my",
        "outputId": "e493ac4c-b8cc-491b-c35c-6d3afb254093"
      },
      "execution_count": 4,
      "outputs": [
        {
          "output_type": "stream",
          "name": "stdout",
          "text": [
            "{'squats': [{'in_and_out': [30, 91, 100, 150, 164, 213, 218, 266, 278, 330], 'class_label': ['correct', 'correct', 'correct', 'correct', 'correct']}]}\n"
          ]
        }
      ]
    },
    {
      "cell_type": "code",
      "source": [
        "with open(\"J_03.json\", \"r\") as read_file:\n",
        "    j3 = json.load(read_file)\n",
        "with open(\"J_04.json\", \"r\") as read_file:\n",
        "    j4 = json.load(read_file)\n",
        "with open(\"J_05.json\", \"r\") as read_file:\n",
        "    j5 = json.load(read_file)\n",
        "with open(\"J_06.json\", \"r\") as read_file:\n",
        "    j6 = json.load(read_file)\n",
        "with open(\"J_07.json\", \"r\") as read_file:\n",
        "    j7= json.load(read_file)\n",
        "with open(\"J_08.json\", \"r\") as read_file:\n",
        "    j8 = json.load(read_file)\n",
        "with open(\"J_09.json\", \"r\") as read_file:\n",
        "    j9 = json.load(read_file)\n"
      ],
      "metadata": {
        "id": "MHdrc-1lzOJM"
      },
      "execution_count": 5,
      "outputs": []
    },
    {
      "cell_type": "code",
      "source": [
        "#with open(\"S_01.json\", \"r\") as read_file:\n",
        "  #  s1 = json.load(read_file)\n",
        "with open(\"S_02.json\", \"r\") as read_file:\n",
        "    s2 = json.load(read_file)\n",
        "with open(\"S_03.json\", \"r\") as read_file:\n",
        "    s3 = json.load(read_file)\n",
        "with open(\"W_01.json\", \"r\") as read_file:\n",
        "    w1 = json.load(read_file)\n",
        "with open(\"W_02.json\", \"r\") as read_file:\n",
        "    w2 = json.load(read_file)\n",
        "with open(\"a.json\", \"r\") as read_file:\n",
        "    aj = json.load(read_file)\n",
        "with open(\"ax.json\", \"r\") as read_file:\n",
        "    axj = json.load(read_file)\n",
        "with open(\"l.json\", \"r\") as read_file:\n",
        "    lj = json.load(read_file)\n",
        "with open(\"n.json\", \"r\") as read_file:\n",
        "    nj = json.load(read_file)\n",
        "with open(\"r.json\", \"r\") as read_file:\n",
        "    rj = json.load(read_file)\n",
        "with open(\"ry.json\", \"r\") as read_file:\n",
        "    ryj = json.load(read_file)\n",
        "with open(\"t.json\", \"r\") as read_file:\n",
        "    tj = json.load(read_file)      "
      ],
      "metadata": {
        "id": "p-mG61CR18oz"
      },
      "execution_count": 6,
      "outputs": []
    },
    {
      "cell_type": "markdown",
      "source": [
        "combining video details into dictionaries"
      ],
      "metadata": {
        "id": "ITl7CeZ-6UAU"
      }
    },
    {
      "cell_type": "code",
      "source": [],
      "metadata": {
        "id": "itxzVPvKU6_H"
      },
      "execution_count": null,
      "outputs": []
    },
    {
      "cell_type": "code",
      "source": [
        "vid_users = {**j1,**j2,**j3,**j4,**j5,**j6,**j7,**j8,**j9,**s2,**s3,**w1,**w2,**aj,**axj,**lj,**nj,**rj,**ryj,**tj}"
      ],
      "metadata": {
        "id": "l2Zpdd4Z284d"
      },
      "execution_count": 7,
      "outputs": []
    },
    {
      "cell_type": "code",
      "source": [
        "print(vid_users)"
      ],
      "metadata": {
        "colab": {
          "base_uri": "https://localhost:8080/"
        },
        "id": "rFwsK1u36jYS",
        "outputId": "10013964-2d66-4d91-819f-fbf65091375c"
      },
      "execution_count": 8,
      "outputs": [
        {
          "output_type": "stream",
          "name": "stdout",
          "text": [
            "{'squats': [{'in_and_out': [78, 122, 150, 189, 209, 255, 325, 368, 392, 439, 551, 602, 620, 670, 685, 732, 748, 795, 865, 920, 990, 1038, 1050, 1099, 1112, 1160, 1170, 1216, 1379, 1424, 1432, 1473, 1485, 1535, 1550, 1593, 1620, 1666, 1745, 1777, 1790, 1823, 1835, 1872, 1882, 1920, 1931, 1964], 'class_label': ['correct', 'correct', 'correct', 'correct', 'correct', 'incorrect_chin_tuck', 'incorrect_chin_tuck', 'incorrect_chin_tuck', 'incorrect_chin_tuck', 'incorrect_lean_fwd', 'incorrect_lean_fwd', 'incorrect_lean_fwd', 'incorrect_lean_fwd', 'incorrect_lean_fwd', 'incorrect_feet_close', 'incorrect_feet_close', 'incorrect_feet_close', 'incorrect_feet_close', 'incorrect_feet_close', 'incorrect_not_low', 'incorrect_not_low', 'incorrect_not_low', 'incorrect_not_low', 'incorrect_not_low']}]}\n"
          ]
        }
      ]
    },
    {
      "cell_type": "code",
      "source": [],
      "metadata": {
        "id": "Ggg_Rh_q6ZRm"
      },
      "execution_count": null,
      "outputs": []
    },
    {
      "cell_type": "code",
      "source": [
        "p=vid_users['squats']\n",
        "\n",
        "type(p)\n",
        "\n",
        "\n",
        "#mp = list(zip(*p))\n",
        "#print(mp)\n",
        "\n",
        "#p=pd.DataFrame(p)\n",
        "\n",
        "#print(p)\n",
        "\n",
        "#p.head()\n",
        "\n"
      ],
      "metadata": {
        "colab": {
          "base_uri": "https://localhost:8080/",
          "height": 135
        },
        "id": "dVXAzAN8WH9E",
        "outputId": "5fcf17bc-f10b-494e-e003-dab0079190d2"
      },
      "execution_count": null,
      "outputs": [
        {
          "output_type": "error",
          "ename": "SyntaxError",
          "evalue": "ignored",
          "traceback": [
            "\u001b[0;36m  File \u001b[0;32m\"<ipython-input-46-19e86442fb28>\"\u001b[0;36m, line \u001b[0;32m4\u001b[0m\n\u001b[0;31m    as.dict(p)\u001b[0m\n\u001b[0m    ^\u001b[0m\n\u001b[0;31mSyntaxError\u001b[0m\u001b[0;31m:\u001b[0m invalid syntax\n"
          ]
        }
      ]
    },
    {
      "cell_type": "code",
      "source": [
        "p['in_andd_out']"
      ],
      "metadata": {
        "colab": {
          "base_uri": "https://localhost:8080/",
          "height": 565
        },
        "id": "cRccK61HYRJ_",
        "outputId": "68d8c9dd-f853-4ee7-db5a-a9a549230ace"
      },
      "execution_count": null,
      "outputs": [
        {
          "output_type": "error",
          "ename": "KeyError",
          "evalue": "ignored",
          "traceback": [
            "\u001b[0;31m---------------------------------------------------------------------------\u001b[0m",
            "\u001b[0;31mKeyError\u001b[0m                                  Traceback (most recent call last)",
            "\u001b[0;32m/usr/local/lib/python3.9/dist-packages/pandas/core/indexes/base.py\u001b[0m in \u001b[0;36mget_loc\u001b[0;34m(self, key, method, tolerance)\u001b[0m\n\u001b[1;32m   3360\u001b[0m             \u001b[0;32mtry\u001b[0m\u001b[0;34m:\u001b[0m\u001b[0;34m\u001b[0m\u001b[0;34m\u001b[0m\u001b[0m\n\u001b[0;32m-> 3361\u001b[0;31m                 \u001b[0;32mreturn\u001b[0m \u001b[0mself\u001b[0m\u001b[0;34m.\u001b[0m\u001b[0m_engine\u001b[0m\u001b[0;34m.\u001b[0m\u001b[0mget_loc\u001b[0m\u001b[0;34m(\u001b[0m\u001b[0mcasted_key\u001b[0m\u001b[0;34m)\u001b[0m\u001b[0;34m\u001b[0m\u001b[0;34m\u001b[0m\u001b[0m\n\u001b[0m\u001b[1;32m   3362\u001b[0m             \u001b[0;32mexcept\u001b[0m \u001b[0mKeyError\u001b[0m \u001b[0;32mas\u001b[0m \u001b[0merr\u001b[0m\u001b[0;34m:\u001b[0m\u001b[0;34m\u001b[0m\u001b[0;34m\u001b[0m\u001b[0m\n",
            "\u001b[0;32m/usr/local/lib/python3.9/dist-packages/pandas/_libs/index.pyx\u001b[0m in \u001b[0;36mpandas._libs.index.IndexEngine.get_loc\u001b[0;34m()\u001b[0m\n",
            "\u001b[0;32m/usr/local/lib/python3.9/dist-packages/pandas/_libs/index.pyx\u001b[0m in \u001b[0;36mpandas._libs.index.IndexEngine.get_loc\u001b[0;34m()\u001b[0m\n",
            "\u001b[0;32mpandas/_libs/hashtable_class_helper.pxi\u001b[0m in \u001b[0;36mpandas._libs.hashtable.PyObjectHashTable.get_item\u001b[0;34m()\u001b[0m\n",
            "\u001b[0;32mpandas/_libs/hashtable_class_helper.pxi\u001b[0m in \u001b[0;36mpandas._libs.hashtable.PyObjectHashTable.get_item\u001b[0;34m()\u001b[0m\n",
            "\u001b[0;31mKeyError\u001b[0m: 'in_andd_out'",
            "\nThe above exception was the direct cause of the following exception:\n",
            "\u001b[0;31mKeyError\u001b[0m                                  Traceback (most recent call last)",
            "\u001b[0;32m<ipython-input-44-91c465a89f3d>\u001b[0m in \u001b[0;36m<module>\u001b[0;34m\u001b[0m\n\u001b[0;32m----> 1\u001b[0;31m \u001b[0mp\u001b[0m\u001b[0;34m[\u001b[0m\u001b[0;34m'in_andd_out'\u001b[0m\u001b[0;34m]\u001b[0m\u001b[0;34m\u001b[0m\u001b[0;34m\u001b[0m\u001b[0m\n\u001b[0m",
            "\u001b[0;32m/usr/local/lib/python3.9/dist-packages/pandas/core/frame.py\u001b[0m in \u001b[0;36m__getitem__\u001b[0;34m(self, key)\u001b[0m\n\u001b[1;32m   3456\u001b[0m             \u001b[0;32mif\u001b[0m \u001b[0mself\u001b[0m\u001b[0;34m.\u001b[0m\u001b[0mcolumns\u001b[0m\u001b[0;34m.\u001b[0m\u001b[0mnlevels\u001b[0m \u001b[0;34m>\u001b[0m \u001b[0;36m1\u001b[0m\u001b[0;34m:\u001b[0m\u001b[0;34m\u001b[0m\u001b[0;34m\u001b[0m\u001b[0m\n\u001b[1;32m   3457\u001b[0m                 \u001b[0;32mreturn\u001b[0m \u001b[0mself\u001b[0m\u001b[0;34m.\u001b[0m\u001b[0m_getitem_multilevel\u001b[0m\u001b[0;34m(\u001b[0m\u001b[0mkey\u001b[0m\u001b[0;34m)\u001b[0m\u001b[0;34m\u001b[0m\u001b[0;34m\u001b[0m\u001b[0m\n\u001b[0;32m-> 3458\u001b[0;31m             \u001b[0mindexer\u001b[0m \u001b[0;34m=\u001b[0m \u001b[0mself\u001b[0m\u001b[0;34m.\u001b[0m\u001b[0mcolumns\u001b[0m\u001b[0;34m.\u001b[0m\u001b[0mget_loc\u001b[0m\u001b[0;34m(\u001b[0m\u001b[0mkey\u001b[0m\u001b[0;34m)\u001b[0m\u001b[0;34m\u001b[0m\u001b[0;34m\u001b[0m\u001b[0m\n\u001b[0m\u001b[1;32m   3459\u001b[0m             \u001b[0;32mif\u001b[0m \u001b[0mis_integer\u001b[0m\u001b[0;34m(\u001b[0m\u001b[0mindexer\u001b[0m\u001b[0;34m)\u001b[0m\u001b[0;34m:\u001b[0m\u001b[0;34m\u001b[0m\u001b[0;34m\u001b[0m\u001b[0m\n\u001b[1;32m   3460\u001b[0m                 \u001b[0mindexer\u001b[0m \u001b[0;34m=\u001b[0m \u001b[0;34m[\u001b[0m\u001b[0mindexer\u001b[0m\u001b[0;34m]\u001b[0m\u001b[0;34m\u001b[0m\u001b[0;34m\u001b[0m\u001b[0m\n",
            "\u001b[0;32m/usr/local/lib/python3.9/dist-packages/pandas/core/indexes/base.py\u001b[0m in \u001b[0;36mget_loc\u001b[0;34m(self, key, method, tolerance)\u001b[0m\n\u001b[1;32m   3361\u001b[0m                 \u001b[0;32mreturn\u001b[0m \u001b[0mself\u001b[0m\u001b[0;34m.\u001b[0m\u001b[0m_engine\u001b[0m\u001b[0;34m.\u001b[0m\u001b[0mget_loc\u001b[0m\u001b[0;34m(\u001b[0m\u001b[0mcasted_key\u001b[0m\u001b[0;34m)\u001b[0m\u001b[0;34m\u001b[0m\u001b[0;34m\u001b[0m\u001b[0m\n\u001b[1;32m   3362\u001b[0m             \u001b[0;32mexcept\u001b[0m \u001b[0mKeyError\u001b[0m \u001b[0;32mas\u001b[0m \u001b[0merr\u001b[0m\u001b[0;34m:\u001b[0m\u001b[0;34m\u001b[0m\u001b[0;34m\u001b[0m\u001b[0m\n\u001b[0;32m-> 3363\u001b[0;31m                 \u001b[0;32mraise\u001b[0m \u001b[0mKeyError\u001b[0m\u001b[0;34m(\u001b[0m\u001b[0mkey\u001b[0m\u001b[0;34m)\u001b[0m \u001b[0;32mfrom\u001b[0m \u001b[0merr\u001b[0m\u001b[0;34m\u001b[0m\u001b[0;34m\u001b[0m\u001b[0m\n\u001b[0m\u001b[1;32m   3364\u001b[0m \u001b[0;34m\u001b[0m\u001b[0m\n\u001b[1;32m   3365\u001b[0m         \u001b[0;32mif\u001b[0m \u001b[0mis_scalar\u001b[0m\u001b[0;34m(\u001b[0m\u001b[0mkey\u001b[0m\u001b[0;34m)\u001b[0m \u001b[0;32mand\u001b[0m \u001b[0misna\u001b[0m\u001b[0;34m(\u001b[0m\u001b[0mkey\u001b[0m\u001b[0;34m)\u001b[0m \u001b[0;32mand\u001b[0m \u001b[0;32mnot\u001b[0m \u001b[0mself\u001b[0m\u001b[0;34m.\u001b[0m\u001b[0mhasnans\u001b[0m\u001b[0;34m:\u001b[0m\u001b[0;34m\u001b[0m\u001b[0;34m\u001b[0m\u001b[0m\n",
            "\u001b[0;31mKeyError\u001b[0m: 'in_andd_out'"
          ]
        }
      ]
    },
    {
      "cell_type": "code",
      "source": [
        "d=[]\n",
        "for x in vid_users:\n",
        "      d=x['squats']\n",
        "\n",
        "print(d)\n"
      ],
      "metadata": {
        "colab": {
          "base_uri": "https://localhost:8080/",
          "height": 246
        },
        "id": "XFXo-4LTQxvN",
        "outputId": "0be6f329-aaf9-4fe1-b3ea-9b65d1351422"
      },
      "execution_count": null,
      "outputs": [
        {
          "output_type": "error",
          "ename": "TypeError",
          "evalue": "ignored",
          "traceback": [
            "\u001b[0;31m---------------------------------------------------------------------------\u001b[0m",
            "\u001b[0;31mTypeError\u001b[0m                                 Traceback (most recent call last)",
            "\u001b[0;32m<ipython-input-32-083416503619>\u001b[0m in \u001b[0;36m<module>\u001b[0;34m\u001b[0m\n\u001b[1;32m      1\u001b[0m \u001b[0md\u001b[0m\u001b[0;34m=\u001b[0m\u001b[0;34m[\u001b[0m\u001b[0;34m]\u001b[0m\u001b[0;34m\u001b[0m\u001b[0;34m\u001b[0m\u001b[0m\n\u001b[1;32m      2\u001b[0m \u001b[0;32mfor\u001b[0m \u001b[0mx\u001b[0m \u001b[0;32min\u001b[0m \u001b[0mvid_users\u001b[0m\u001b[0;34m:\u001b[0m\u001b[0;34m\u001b[0m\u001b[0;34m\u001b[0m\u001b[0m\n\u001b[0;32m----> 3\u001b[0;31m       \u001b[0md\u001b[0m\u001b[0;34m=\u001b[0m\u001b[0mx\u001b[0m\u001b[0;34m[\u001b[0m\u001b[0;34m'squats'\u001b[0m\u001b[0;34m]\u001b[0m\u001b[0;34m\u001b[0m\u001b[0;34m\u001b[0m\u001b[0m\n\u001b[0m\u001b[1;32m      4\u001b[0m \u001b[0;34m\u001b[0m\u001b[0m\n\u001b[1;32m      5\u001b[0m \u001b[0mprint\u001b[0m\u001b[0;34m(\u001b[0m\u001b[0md\u001b[0m\u001b[0;34m)\u001b[0m\u001b[0;34m\u001b[0m\u001b[0;34m\u001b[0m\u001b[0m\n",
            "\u001b[0;31mTypeError\u001b[0m: string indices must be integers"
          ]
        }
      ]
    },
    {
      "cell_type": "code",
      "source": [
        "d"
      ],
      "metadata": {
        "colab": {
          "base_uri": "https://localhost:8080/"
        },
        "id": "LEEXkEHoT7qw",
        "outputId": "c981f8de-9ce0-47b6-e69c-6900d1d4f4ac"
      },
      "execution_count": null,
      "outputs": [
        {
          "output_type": "execute_result",
          "data": {
            "text/plain": [
              "[]"
            ]
          },
          "metadata": {},
          "execution_count": 30
        }
      ]
    },
    {
      "cell_type": "code",
      "source": [
        "newdf = [p1,p2,p3,p4,p5,p6,p7,p8,p9]\n",
        "neddd = pd.concat(newdf)\n",
        "print(neddd)"
      ],
      "metadata": {
        "colab": {
          "base_uri": "https://localhost:8080/"
        },
        "id": "kig_1w4PBO4G",
        "outputId": "31780fb6-1d6c-48e9-bb21-f7ec748feea8"
      },
      "execution_count": null,
      "outputs": [
        {
          "output_type": "stream",
          "name": "stdout",
          "text": [
            "                                              squats\n",
            "0  {'in_and_out': [45, 100, 108, 164, 170, 230, 2...\n",
            "0  {'in_and_out': [30, 91, 100, 150, 164, 213, 21...\n",
            "0  {'in_and_out': [67, 130, 144, 205, 218, 280, 2...\n",
            "0  {'in_and_out': [23, 82, 94, 153, 165, 228, 238...\n",
            "0  {'in_and_out': [20, 94, 110, 175, 194, 260, 27...\n",
            "0  {'in_and_out': [44, 117, 126, 194, 203, 262, 2...\n",
            "0  {'in_and_out': [39, 106, 117, 187, 200, 265, 2...\n",
            "0  {'in_and_out': [37, 90, 98, 150, 159, 212, 225...\n",
            "0  {'in_and_out': [29, 64, 72, 106, 115, 154, 158...\n"
          ]
        }
      ]
    },
    {
      "cell_type": "code",
      "source": [
        "neddd.head()"
      ],
      "metadata": {
        "colab": {
          "base_uri": "https://localhost:8080/",
          "height": 206
        },
        "id": "1xslt1_RDUWg",
        "outputId": "657a513c-d204-4b30-9815-7129b1d8a49e"
      },
      "execution_count": null,
      "outputs": [
        {
          "output_type": "execute_result",
          "data": {
            "text/plain": [
              "                                                        0\n",
              "squats  {'in_and_out': [45, 100, 108, 164, 170, 230, 2...\n",
              "squats  {'in_and_out': [30, 91, 100, 150, 164, 213, 21...\n",
              "squats  {'in_and_out': [67, 130, 144, 205, 218, 280, 2...\n",
              "squats  {'in_and_out': [23, 82, 94, 153, 165, 228, 238...\n",
              "squats  {'in_and_out': [20, 94, 110, 175, 194, 260, 27..."
            ],
            "text/html": [
              "\n",
              "  <div id=\"df-cf45ea1d-4ba9-4f4d-80fe-cb0f9bb618bb\">\n",
              "    <div class=\"colab-df-container\">\n",
              "      <div>\n",
              "<style scoped>\n",
              "    .dataframe tbody tr th:only-of-type {\n",
              "        vertical-align: middle;\n",
              "    }\n",
              "\n",
              "    .dataframe tbody tr th {\n",
              "        vertical-align: top;\n",
              "    }\n",
              "\n",
              "    .dataframe thead th {\n",
              "        text-align: right;\n",
              "    }\n",
              "</style>\n",
              "<table border=\"1\" class=\"dataframe\">\n",
              "  <thead>\n",
              "    <tr style=\"text-align: right;\">\n",
              "      <th></th>\n",
              "      <th>0</th>\n",
              "    </tr>\n",
              "  </thead>\n",
              "  <tbody>\n",
              "    <tr>\n",
              "      <th>squats</th>\n",
              "      <td>{'in_and_out': [45, 100, 108, 164, 170, 230, 2...</td>\n",
              "    </tr>\n",
              "    <tr>\n",
              "      <th>squats</th>\n",
              "      <td>{'in_and_out': [30, 91, 100, 150, 164, 213, 21...</td>\n",
              "    </tr>\n",
              "    <tr>\n",
              "      <th>squats</th>\n",
              "      <td>{'in_and_out': [67, 130, 144, 205, 218, 280, 2...</td>\n",
              "    </tr>\n",
              "    <tr>\n",
              "      <th>squats</th>\n",
              "      <td>{'in_and_out': [23, 82, 94, 153, 165, 228, 238...</td>\n",
              "    </tr>\n",
              "    <tr>\n",
              "      <th>squats</th>\n",
              "      <td>{'in_and_out': [20, 94, 110, 175, 194, 260, 27...</td>\n",
              "    </tr>\n",
              "  </tbody>\n",
              "</table>\n",
              "</div>\n",
              "      <button class=\"colab-df-convert\" onclick=\"convertToInteractive('df-cf45ea1d-4ba9-4f4d-80fe-cb0f9bb618bb')\"\n",
              "              title=\"Convert this dataframe to an interactive table.\"\n",
              "              style=\"display:none;\">\n",
              "        \n",
              "  <svg xmlns=\"http://www.w3.org/2000/svg\" height=\"24px\"viewBox=\"0 0 24 24\"\n",
              "       width=\"24px\">\n",
              "    <path d=\"M0 0h24v24H0V0z\" fill=\"none\"/>\n",
              "    <path d=\"M18.56 5.44l.94 2.06.94-2.06 2.06-.94-2.06-.94-.94-2.06-.94 2.06-2.06.94zm-11 1L8.5 8.5l.94-2.06 2.06-.94-2.06-.94L8.5 2.5l-.94 2.06-2.06.94zm10 10l.94 2.06.94-2.06 2.06-.94-2.06-.94-.94-2.06-.94 2.06-2.06.94z\"/><path d=\"M17.41 7.96l-1.37-1.37c-.4-.4-.92-.59-1.43-.59-.52 0-1.04.2-1.43.59L10.3 9.45l-7.72 7.72c-.78.78-.78 2.05 0 2.83L4 21.41c.39.39.9.59 1.41.59.51 0 1.02-.2 1.41-.59l7.78-7.78 2.81-2.81c.8-.78.8-2.07 0-2.86zM5.41 20L4 18.59l7.72-7.72 1.47 1.35L5.41 20z\"/>\n",
              "  </svg>\n",
              "      </button>\n",
              "      \n",
              "  <style>\n",
              "    .colab-df-container {\n",
              "      display:flex;\n",
              "      flex-wrap:wrap;\n",
              "      gap: 12px;\n",
              "    }\n",
              "\n",
              "    .colab-df-convert {\n",
              "      background-color: #E8F0FE;\n",
              "      border: none;\n",
              "      border-radius: 50%;\n",
              "      cursor: pointer;\n",
              "      display: none;\n",
              "      fill: #1967D2;\n",
              "      height: 32px;\n",
              "      padding: 0 0 0 0;\n",
              "      width: 32px;\n",
              "    }\n",
              "\n",
              "    .colab-df-convert:hover {\n",
              "      background-color: #E2EBFA;\n",
              "      box-shadow: 0px 1px 2px rgba(60, 64, 67, 0.3), 0px 1px 3px 1px rgba(60, 64, 67, 0.15);\n",
              "      fill: #174EA6;\n",
              "    }\n",
              "\n",
              "    [theme=dark] .colab-df-convert {\n",
              "      background-color: #3B4455;\n",
              "      fill: #D2E3FC;\n",
              "    }\n",
              "\n",
              "    [theme=dark] .colab-df-convert:hover {\n",
              "      background-color: #434B5C;\n",
              "      box-shadow: 0px 1px 3px 1px rgba(0, 0, 0, 0.15);\n",
              "      filter: drop-shadow(0px 1px 2px rgba(0, 0, 0, 0.3));\n",
              "      fill: #FFFFFF;\n",
              "    }\n",
              "  </style>\n",
              "\n",
              "      <script>\n",
              "        const buttonEl =\n",
              "          document.querySelector('#df-cf45ea1d-4ba9-4f4d-80fe-cb0f9bb618bb button.colab-df-convert');\n",
              "        buttonEl.style.display =\n",
              "          google.colab.kernel.accessAllowed ? 'block' : 'none';\n",
              "\n",
              "        async function convertToInteractive(key) {\n",
              "          const element = document.querySelector('#df-cf45ea1d-4ba9-4f4d-80fe-cb0f9bb618bb');\n",
              "          const dataTable =\n",
              "            await google.colab.kernel.invokeFunction('convertToInteractive',\n",
              "                                                     [key], {});\n",
              "          if (!dataTable) return;\n",
              "\n",
              "          const docLinkHtml = 'Like what you see? Visit the ' +\n",
              "            '<a target=\"_blank\" href=https://colab.research.google.com/notebooks/data_table.ipynb>data table notebook</a>'\n",
              "            + ' to learn more about interactive tables.';\n",
              "          element.innerHTML = '';\n",
              "          dataTable['output_type'] = 'display_data';\n",
              "          await google.colab.output.renderOutput(dataTable, element);\n",
              "          const docLink = document.createElement('div');\n",
              "          docLink.innerHTML = docLinkHtml;\n",
              "          element.appendChild(docLink);\n",
              "        }\n",
              "      </script>\n",
              "    </div>\n",
              "  </div>\n",
              "  "
            ]
          },
          "metadata": {},
          "execution_count": 38
        }
      ]
    },
    {
      "cell_type": "code",
      "source": [
        "def calc_angle(a,b,c):\n",
        "    a = np.array(a) # First\n",
        "    b = np.array(b) # Mid\n",
        "    c = np.array(c) # End\n",
        "    \n",
        "    radians = np.arctan2(c[1]-b[1], c[0]-b[0]) - np.arctan2(a[1]-b[1], a[0]-b[0])\n",
        "    angle = np.abs(radians*180.0/np.pi)\n",
        "    \n",
        "    if angle >180.0:\n",
        "        angle = 360-angle\n",
        "        \n",
        "    return angle"
      ],
      "metadata": {
        "id": "GPHTMXpT68Kr"
      },
      "execution_count": 13,
      "outputs": []
    },
    {
      "cell_type": "code",
      "source": [
        "mp_pose.POSE_CONNECTIONS\n",
        "\n",
        "#TODO: Add visibility parameter"
      ],
      "metadata": {
        "colab": {
          "base_uri": "https://localhost:8080/"
        },
        "id": "CnLKCkcB7JPt",
        "outputId": "4411109d-8a58-42e4-8625-efece6f805a9"
      },
      "execution_count": 14,
      "outputs": [
        {
          "output_type": "execute_result",
          "data": {
            "text/plain": [
              "frozenset({(0, 1),\n",
              "           (0, 4),\n",
              "           (1, 2),\n",
              "           (2, 3),\n",
              "           (3, 7),\n",
              "           (4, 5),\n",
              "           (5, 6),\n",
              "           (6, 8),\n",
              "           (9, 10),\n",
              "           (11, 12),\n",
              "           (11, 13),\n",
              "           (11, 23),\n",
              "           (12, 14),\n",
              "           (12, 24),\n",
              "           (13, 15),\n",
              "           (14, 16),\n",
              "           (15, 17),\n",
              "           (15, 19),\n",
              "           (15, 21),\n",
              "           (16, 18),\n",
              "           (16, 20),\n",
              "           (16, 22),\n",
              "           (17, 19),\n",
              "           (18, 20),\n",
              "           (23, 24),\n",
              "           (23, 25),\n",
              "           (24, 26),\n",
              "           (25, 27),\n",
              "           (26, 28),\n",
              "           (27, 29),\n",
              "           (27, 31),\n",
              "           (28, 30),\n",
              "           (28, 32),\n",
              "           (29, 31),\n",
              "           (30, 32)})"
            ]
          },
          "metadata": {},
          "execution_count": 14
        }
      ]
    },
    {
      "cell_type": "code",
      "source": [
        "def frame_rescaled(frame, percent=50):\n",
        "    width = int(frame.shape[1] * percent/ 100)\n",
        "    height = int(frame.shape[0] * percent/ 100)\n",
        "    dim = (width, height)\n",
        "    return cv2.resize(frame, dim, interpolation =cv2.INTER_AREA)"
      ],
      "metadata": {
        "id": "uzEyv9I-7NHe"
      },
      "execution_count": 15,
      "outputs": []
    },
    {
      "cell_type": "code",
      "source": [
        "#training video\n",
        "angle_min = []\n",
        "angle_min_hip = []\n",
        "cap = cv2.VideoCapture(\"squats_test_v2.mp4\")\n",
        "\n",
        "\n",
        "\n",
        "\n",
        "\n",
        "# Curl counter variables\n",
        "counter = 0 \n",
        "min_ang = 0\n",
        "max_ang = 0\n",
        "min_ang_hip = 0\n",
        "max_ang_hip = 0\n",
        "stage = None\n",
        "\n",
        "width = int(cap.get(cv2.CAP_PROP_FRAME_WIDTH) + 0.5)\n",
        "height = int(cap.get(cv2.CAP_PROP_FRAME_HEIGHT) + 0.5)\n",
        "size = (640, 480)\n",
        "fourcc = cv2.VideoWriter_fourcc(*'MP4V')\n",
        "out = cv2.VideoWriter('output_video_.mp4', fourcc, 24, size)\n",
        "\n",
        "with mp_pose.Pose(min_detection_confidence=0.5, min_tracking_confidence=0.5) as pose:\n",
        "    while cap.isOpened():\n",
        "        ret, frame = cap.read()\n",
        "        if frame is not None:\n",
        "            frame_ = rescale_frame(frame, percent=75)\n",
        "        \n",
        "        # Recolor image to RGB\n",
        "        image = cv2.cvtColor(frame_, cv2.COLOR_BGR2RGB)\n",
        "        image.flags.writeable = False\n",
        "      \n",
        "        # Make detection\n",
        "        results = pose.process(image)\n",
        "    \n",
        "        # Recolor back to BGR\n",
        "        image.flags.writeable = True\n",
        "        image = cv2.cvtColor(image, cv2.COLOR_RGB2BGR)\n",
        "        \n",
        "        # Extract landmarks\n",
        "        try:\n",
        "            landmarks = results.pose_landmarks.landmark\n",
        "            # Get coordinates\n",
        "            shoulder = [landmarks[mp_pose.PoseLandmark.RIGHT_SHOULDER.value].x,landmarks[mp_pose.PoseLandmark.RIGHT_SHOULDER.value].y]\n",
        "            \"\"\"elbow = [landmarks[mp_pose.PoseLandmark.LEFT_ELBOW.value].x,landmarks[mp_pose.PoseLandmark.LEFT_ELBOW.value].y]\n",
        "            wrist = [landmarks[mp_pose.PoseLandmark.LEFT_WRIST.value].x,landmarks[mp_pose.PoseLandmark.LEFT_WRIST.value].y]\n",
        "            \"\"\"\n",
        "            \n",
        "            # Get coordinates\n",
        "            hip = [landmarks[mp_pose.PoseLandmark.RIGHT_HIP.value].x,landmarks[mp_pose.PoseLandmark.RIGHT_HIP.value].y]\n",
        "            knee = [landmarks[mp_pose.PoseLandmark.RIGHT_KNEE.value].x,landmarks[mp_pose.PoseLandmark.RIGHT_KNEE.value].y]\n",
        "            ankle = [landmarks[mp_pose.PoseLandmark.RIGHT_ANKLE.value].x,landmarks[mp_pose.PoseLandmark.RIGHT_ANKLE.value].y]\n",
        "            \n",
        "           \n",
        "            \n",
        "            # Calculate angle\n",
        "            angle = calculate_angle(shoulder, elbow, wrist)\n",
        "            \n",
        "            angle_knee = calculate_angle(hip, knee, ankle) #Knee joint angle\n",
        "            angle_knee = round(angle_knee,2)\n",
        "            \n",
        "            angle_hip = calculate_angle(shoulder, hip, knee)\n",
        "            angle_hip = round(angle_hip,2)\n",
        "            \n",
        "            hip_angle = 180-angle_hip\n",
        "            knee_angle = 180-angle_knee\n",
        "            \n",
        "            \n",
        "            angle_min.append(angle_knee)\n",
        "            angle_min_hip.append(angle_hip)\n",
        "            #print(angle_knee)\n",
        "            # Visualize angle\n",
        "            \"\"\"cv2.putText(image, str(angle), \n",
        "                           tuple(np.multiply(elbow, [640, 480]).astype(int)), \n",
        "                           cv2.FONT_HERSHEY_SIMPLEX, 0.5, (255, 255, 255), 2, cv2.LINE_AA\n",
        "                                )\"\"\"\n",
        "                       \n",
        "                \n",
        "            cv2.putText(image, str(angle_knee), \n",
        "                           tuple(np.multiply(knee, [1500, 800]).astype(int)), \n",
        "                           cv2.FONT_HERSHEY_SIMPLEX, 0.5, (255,255,255), 2, cv2.LINE_AA\n",
        "                                )\n",
        "            \n",
        "            cv2.putText(image, str(angle_hip), \n",
        "                           tuple(np.multiply(hip, [1500, 800]).astype(int)), \n",
        "                           cv2.FONT_HERSHEY_SIMPLEX, 0.5, (255, 255, 255), 2, cv2.LINE_AA\n",
        "                                )\n",
        "            \n",
        "            # Curl counter logic\n",
        "            if angle_knee > 169:\n",
        "                stage = \"up\"\n",
        "            if angle_knee <= 90 and stage =='up':\n",
        "                stage=\"down\"\n",
        "                counter +=1\n",
        "                print(counter)\n",
        "                min_ang  =min(angle_min)\n",
        "                max_ang = max(angle_min)\n",
        "                \n",
        "                min_ang_hip  =min(angle_min_hip)\n",
        "                max_ang_hip = max(angle_min_hip)\n",
        "                \n",
        "                print(min(angle_min), \" _ \", max(angle_min))\n",
        "                print(min(angle_min_hip), \" _ \", max(angle_min_hip))\n",
        "                angle_min = []\n",
        "                angle_min_hip = []\n",
        "        except:\n",
        "            pass\n",
        "        \n",
        "        # Render squat counter\n",
        "        # Setup status box\n",
        "        cv2.rectangle(image, (20,20), (435,160), (0,0,0), -1)\n",
        "        \n",
        "        # Rep data\n",
        "        \"\"\"cv2.putText(image, 'REPS', (15,12), \n",
        "                    cv2.FONT_HERSHEY_SIMPLEX, 0.5, (255,255,255), 1, cv2.LINE_AA)\"\"\"\n",
        "        cv2.putText(image, \"Repetition : \" + str(counter), \n",
        "                    (30,60), \n",
        "                    cv2.FONT_HERSHEY_SIMPLEX, 1, (255,255,255), 2, cv2.LINE_AA)\n",
        "        # Stage data\n",
        "        \"\"\"cv2.putText(image, 'STAGE', (65,12), \n",
        "                    cv2.FONT_HERSHEY_SIMPLEX, 0.5, (0,0,0), 1, cv2.LINE_AA)\"\"\"\n",
        "        \"\"\"cv2.putText(image, stage, \n",
        "                    (10,120), \n",
        "                    cv2.FONT_HERSHEY_SIMPLEX, 1, (255,255,255), 2, cv2.LINE_AA)\"\"\"\n",
        "        \n",
        "        #Knee angle:\n",
        "        \"\"\"cv2.putText(image, 'Angle', (65,12), \n",
        "                    cv2.FONT_HERSHEY_SIMPLEX, 0.5, (255,255,255), 1, cv2.LINE_AA)\"\"\"\n",
        "        cv2.putText(image, \"Knee-joint angle : \" + str(min_ang), \n",
        "                    (30,100), \n",
        "                    cv2.FONT_HERSHEY_SIMPLEX, 1, (255,255,255), 2, cv2.LINE_AA)\n",
        "        \n",
        "        #Hip angle:\n",
        "        cv2.putText(image, \"Hip-joint angle : \" + str(min_ang_hip), \n",
        "                    (30,140), \n",
        "                    cv2.FONT_HERSHEY_SIMPLEX, 1, (255,255,255), 2, cv2.LINE_AA)\n",
        "        \n",
        "\n",
        "        \n",
        "        \n",
        "        # Render detections\n",
        "        mp_drawing.draw_landmarks(image, results.pose_landmarks, mp_pose.POSE_CONNECTIONS,\n",
        "                                mp_drawing.DrawingSpec(color=(0,0,0), thickness=2, circle_radius=2), \n",
        "                                mp_drawing.DrawingSpec(color=(203,17,17), thickness=2, circle_radius=2) \n",
        "                                 )               \n",
        "        \n",
        "        out.write(image)\n",
        "        cv2.imshow('Mediapipe Feed', image)\n",
        "\n",
        "        if cv2.waitKey(10) & 0xFF == ord('q'):\n",
        "            cap.release()\n",
        "            out.release()\n",
        "            cv2.destroyAllWindows()\n",
        "            #break\n",
        "\n",
        "    cap.release()\n",
        "    out.release()\n",
        "    cv2.destroyAllWindows()\n",
        "        \n"
      ],
      "metadata": {
        "id": "zgrjvc-V7aBB"
      },
      "execution_count": null,
      "outputs": []
    },
    {
      "cell_type": "code",
      "source": [
        "# Youtube video2\n",
        "angle_min = []\n",
        "angle_min_hip = []\n",
        "\n",
        "cap = cv2.VideoCapture(\"squats_test_v2.mp4\")\n",
        "# Curl counter variables\n",
        "counter = 0 \n",
        "min_ang = 0\n",
        "max_ang = 0\n",
        "min_ang_hip = 0\n",
        "max_ang_hip = 0\n",
        "stage = None\n",
        "\n",
        "\n",
        "\n",
        "\n",
        "width = int(cap.get(cv2.CAP_PROP_FRAME_WIDTH) + 0.5)\n",
        "height = int(cap.get(cv2.CAP_PROP_FRAME_HEIGHT) + 0.5)\n",
        "size = (640, 480)\n",
        "fourcc = cv2.VideoWriter_fourcc(*'MP4V')\n",
        "out = cv2.VideoWriter('output_video_.mp4', fourcc, 24, size)\n",
        "\n",
        "with mp_pose.Pose(min_detection_confidence=0.5, min_tracking_confidence=0.5) as pose:\n",
        "    while cap.isOpened():\n",
        "        ret, frame = cap.read()\n",
        "        if frame is not None:\n",
        "            frame_ = rescale_frame(frame, percent=55)\n",
        "        \n",
        "        # Recolor image to RGB\n",
        "        image = cv2.cvtColor(frame_, cv2.COLOR_BGR2RGB)\n",
        "        image.flags.writeable = False\n",
        "      \n",
        "        # Make detection\n",
        "        results = pose.process(image)\n",
        "    \n",
        "        # Recolor back to BGR\n",
        "        image.flags.writeable = True\n",
        "        image = cv2.cvtColor(image, cv2.COLOR_RGB2BGR)\n",
        "        \n",
        "        # Extract landmarks\n",
        "        try:\n",
        "            landmarks = results.pose_landmarks.landmark\n",
        "            \n",
        "            # Get coordinates\n",
        "            shoulder = [landmarks[mp_pose.PoseLandmark.LEFT_SHOULDER.value].x,landmarks[mp_pose.PoseLandmark.LEFT_SHOULDER.value].y]\n",
        "            \"\"\"elbow = [landmarks[mp_pose.PoseLandmark.LEFT_ELBOW.value].x,landmarks[mp_pose.PoseLandmark.LEFT_ELBOW.value].y]\n",
        "            wrist = [landmarks[mp_pose.PoseLandmark.LEFT_WRIST.value].x,landmarks[mp_pose.PoseLandmark.LEFT_WRIST.value].y]\n",
        "            \"\"\"\n",
        "            \n",
        "            # Get coordinates\n",
        "            hip = [landmarks[mp_pose.PoseLandmark.LEFT_HIP.value].x,landmarks[mp_pose.PoseLandmark.LEFT_HIP.value].y]\n",
        "            knee = [landmarks[mp_pose.PoseLandmark.LEFT_KNEE.value].x,landmarks[mp_pose.PoseLandmark.LEFT_KNEE.value].y]\n",
        "            ankle = [landmarks[mp_pose.PoseLandmark.LEFT_ANKLE.value].x,landmarks[mp_pose.PoseLandmark.LEFT_ANKLE.value].y]\n",
        "            \n",
        "           \n",
        "            \n",
        "            # Calculate angle\n",
        "            angle = calculate_angle(shoulder, elbow, wrist)\n",
        "            \n",
        "            angle_knee = calculate_angle(hip, knee, ankle) #Knee joint angle\n",
        "            angle_knee = round(angle_knee,2)\n",
        "            \n",
        "            angle_hip = calculate_angle(shoulder, hip, knee)\n",
        "            angle_hip = round(angle_hip,2)\n",
        "            \n",
        "            hip_angle = 180-angle_hip\n",
        "            knee_angle = 180-angle_knee\n",
        "            \n",
        "            \n",
        "            angle_min.append(angle_knee)\n",
        "            angle_min_hip.append(angle_hip)\n",
        "            \n",
        "            print(angle_knee)\n",
        "            # Visualize angle\n",
        "            \"\"\"cv2.putText(image, str(angle), \n",
        "                           tuple(np.multiply(elbow, [640, 480]).astype(int)), \n",
        "                           cv2.FONT_HERSHEY_SIMPLEX, 0.5, (255, 255, 255), 2, cv2.LINE_AA\n",
        "                                )\"\"\"\n",
        "                       \n",
        "                \n",
        "            cv2.putText(image, str(angle_knee), \n",
        "                           tuple(np.multiply(knee, [630,900]).astype(int)), \n",
        "                           cv2.FONT_HERSHEY_SIMPLEX, 0.5, (255,9,0), 2, cv2.LINE_AA\n",
        "                                )\n",
        "            \n",
        "            cv2.putText(image, str(angle_hip), \n",
        "                           tuple(np.multiply(hip, [630,900]).astype(int)), \n",
        "                           cv2.FONT_HERSHEY_SIMPLEX, 0.5, (0,0,255), 2, cv2.LINE_AA\n",
        "                                )\n",
        "            \n",
        "            # Curl counter logic\n",
        "            if angle_knee > 150:\n",
        "                stage = \"up\"\n",
        "            if angle_knee <= 90 and stage =='up':\n",
        "                stage=\"down\"\n",
        "                counter +=1\n",
        "                print(counter)\n",
        "                min_ang  =min(angle_min)\n",
        "                max_ang = max(angle_min)\n",
        "\n",
        "\n",
        "                min_ang_hip  =min(angle_min_hip)\n",
        "                max_ang_hip = max(angle_min_hip)\n",
        "                \n",
        "                print(min(angle_min), \" _ \", max(angle_min))\n",
        "                print(min(angle_min_hip), \" _ \", max(angle_min_hip))\n",
        "                angle_min = []\n",
        "                angle_min_hip = []\n",
        "        except:\n",
        "            pass\n",
        "        \n",
        "        # Render squat counter\n",
        "        # Setup status box\n",
        "        cv2.rectangle(image, (20,20), (200,90), (0,0,0), -1)\n",
        "        \n",
        "        # Rep data\n",
        "        \"\"\"cv2.putText(image, 'REPS', (15,12), \n",
        "                    cv2.FONT_HERSHEY_SIMPLEX, 0.5, (255,255,255), 1, cv2.LINE_AA)\"\"\"\n",
        "        cv2.putText(image, \"Repetition : \" + str(counter), \n",
        "                    (30,40), \n",
        "                    cv2.FONT_HERSHEY_SIMPLEX, 0.4, (255,255,255), 1, cv2.LINE_AA)\n",
        "        \n",
        "        # Stage data\n",
        "        \"\"\"cv2.putText(image, 'STAGE', (65,12), \n",
        "                    cv2.FONT_HERSHEY_SIMPLEX, 0.5, (0,0,0), 1, cv2.LINE_AA)\"\"\"\n",
        "        \"\"\"cv2.putText(image, stage, \n",
        "                    (10,120), \n",
        "                    cv2.FONT_HERSHEY_SIMPLEX, 1, (255,255,255), 2, cv2.LINE_AA)\"\"\"\n",
        "        \n",
        "        #Knee angle:\n",
        "        \"\"\"cv2.putText(image, 'Angle', (65,12), \n",
        "                    cv2.FONT_HERSHEY_SIMPLEX, 0.5, (255,255,255), 1, cv2.LINE_AA)\"\"\"\n",
        "        cv2.putText(image, \"Knee-joint angle : \" + str(min_ang), \n",
        "                    (30,60), \n",
        "                    cv2.FONT_HERSHEY_SIMPLEX, 0.4, (255,255,255), 1, cv2.LINE_AA)\n",
        "        \n",
        "        #Hip angle:\n",
        "        cv2.putText(image, \"Hip-joint angle : \" + str(min_ang_hip), \n",
        "                    (30,80), \n",
        "                    cv2.FONT_HERSHEY_SIMPLEX, 0.4, (255,255,255), 1, cv2.LINE_AA)\n",
        "        \n",
        "\n",
        "        # Render detections\n",
        "        mp_drawing.draw_landmarks(image, results.pose_landmarks, mp_pose.POSE_CONNECTIONS,\n",
        "                                mp_drawing.DrawingSpec(color=(0,0,255), thickness=2, circle_radius=1), \n",
        "                                mp_drawing.DrawingSpec(color=(0,255,0), thickness=2, circle_radius=1) \n",
        "                                 )               \n",
        "        \n",
        "        out.write(image)\n",
        "        cv2.imshow('Mediapipe Feed', image)\n",
        "\n",
        "        if cv2.waitKey(10) & 0xFF == ord('q'):\n",
        "            cap.release()\n",
        "            out.release()\n",
        "            cv2.destroyAllWindows()\n",
        "            #break\n",
        "\n",
        "    cap.release()\n",
        "    out.release()\n",
        "    cv2.destroyAllWindows()\n",
        "\n"
      ],
      "metadata": {
        "id": "I4ankIxC9mzW"
      },
      "execution_count": null,
      "outputs": []
    }
  ]
}