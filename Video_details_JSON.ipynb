{
  "nbformat": 4,
  "nbformat_minor": 0,
  "metadata": {
    "colab": {
      "provenance": []
    },
    "kernelspec": {
      "name": "python3",
      "display_name": "Python 3"
    },
    "language_info": {
      "name": "python"
    }
  },
  "cells": [
    {
      "cell_type": "code",
      "execution_count": null,
      "metadata": {
        "id": "AXym41hcuEhN"
      },
      "outputs": [],
      "source": [
        "import json\n",
        "import requests\n",
        "import pandas as pd\n",
        "\n"
      ]
    },
    {
      "cell_type": "code",
      "source": [
        "with open(\"J_01.json\", \"r\") as read_file:\n",
        "    j1 = json.load(read_file)"
      ],
      "metadata": {
        "id": "mN-hbk2IwErR"
      },
      "execution_count": null,
      "outputs": []
    },
    {
      "cell_type": "code",
      "source": [
        "print(data)"
      ],
      "metadata": {
        "colab": {
          "base_uri": "https://localhost:8080/"
        },
        "id": "Ie7YfI04xTgX",
        "outputId": "d4fadf74-507a-418d-9b73-fc4363210f3b"
      },
      "execution_count": null,
      "outputs": [
        {
          "output_type": "stream",
          "name": "stdout",
          "text": [
            "{'squats': [{'in_and_out': [45, 100, 108, 164, 170, 230, 240, 292, 300, 353], 'class_label': ['correct', 'correct', 'correct', 'correct', 'correct']}]}\n"
          ]
        }
      ]
    },
    {
      "cell_type": "code",
      "source": [
        "type(data)"
      ],
      "metadata": {
        "colab": {
          "base_uri": "https://localhost:8080/"
        },
        "id": "2MZ4Fmrpxx1_",
        "outputId": "b16277b6-4b3e-45af-e63b-d3b5d64d1dab"
      },
      "execution_count": null,
      "outputs": [
        {
          "output_type": "execute_result",
          "data": {
            "text/plain": [
              "dict"
            ]
          },
          "metadata": {},
          "execution_count": 5
        }
      ]
    },
    {
      "cell_type": "code",
      "source": [
        "with open(\"J_02.json\", \"r\") as read_file:\n",
        "    j2 = json.load(read_file)"
      ],
      "metadata": {
        "id": "a4Fbr0htx8_d"
      },
      "execution_count": null,
      "outputs": []
    },
    {
      "cell_type": "code",
      "source": [
        "print(j2)"
      ],
      "metadata": {
        "colab": {
          "base_uri": "https://localhost:8080/"
        },
        "id": "iIvHnzyHy4my",
        "outputId": "891addee-20ca-4dec-e1d5-c2e6fba1cead"
      },
      "execution_count": null,
      "outputs": [
        {
          "output_type": "stream",
          "name": "stdout",
          "text": [
            "{'squats': [{'in_and_out': [30, 91, 100, 150, 164, 213, 218, 266, 278, 330], 'class_label': ['correct', 'correct', 'correct', 'correct', 'correct']}]}\n"
          ]
        }
      ]
    },
    {
      "cell_type": "code",
      "source": [
        "with open(\"J_03.json\", \"r\") as read_file:\n",
        "    j3 = json.load(read_file)\n",
        "with open(\"J_04.json\", \"r\") as read_file:\n",
        "    j4 = json.load(read_file)\n",
        "with open(\"J_05.json\", \"r\") as read_file:\n",
        "    j5 = json.load(read_file)\n",
        "with open(\"J_06.json\", \"r\") as read_file:\n",
        "    j6 = json.load(read_file)\n",
        "with open(\"J_07.json\", \"r\") as read_file:\n",
        "    j7= json.load(read_file)\n",
        "with open(\"J_08.json\", \"r\") as read_file:\n",
        "    j8 = json.load(read_file)\n",
        "with open(\"J_09.json\", \"r\") as read_file:\n",
        "    j9 = json.load(read_file)\n"
      ],
      "metadata": {
        "id": "MHdrc-1lzOJM"
      },
      "execution_count": null,
      "outputs": []
    },
    {
      "cell_type": "code",
      "source": [
        "#with open(\"S_01.json\", \"r\") as read_file:\n",
        "  #  s1 = json.load(read_file)\n",
        "with open(\"S_02.json\", \"r\") as read_file:\n",
        "    s2 = json.load(read_file)\n",
        "with open(\"S_03.json\", \"r\") as read_file:\n",
        "    s3 = json.load(read_file)\n",
        "with open(\"W_01.json\", \"r\") as read_file:\n",
        "    w1 = json.load(read_file)\n",
        "with open(\"W_02.json\", \"r\") as read_file:\n",
        "    w2 = json.load(read_file)\n",
        "with open(\"a.json\", \"r\") as read_file:\n",
        "    aj = json.load(read_file)\n",
        "with open(\"ax.json\", \"r\") as read_file:\n",
        "    axj = json.load(read_file)\n",
        "with open(\"l.json\", \"r\") as read_file:\n",
        "    lj = json.load(read_file)\n",
        "with open(\"n.json\", \"r\") as read_file:\n",
        "    nj = json.load(read_file)\n",
        "with open(\"r.json\", \"r\") as read_file:\n",
        "    rj = json.load(read_file)\n",
        "with open(\"ry.json\", \"r\") as read_file:\n",
        "    ryj = json.load(read_file)\n",
        "with open(\"t.json\", \"r\") as read_file:\n",
        "    tj = json.load(read_file)      "
      ],
      "metadata": {
        "id": "p-mG61CR18oz"
      },
      "execution_count": null,
      "outputs": []
    },
    {
      "cell_type": "markdown",
      "source": [
        "combining video details into dictionaries"
      ],
      "metadata": {
        "id": "ITl7CeZ-6UAU"
      }
    },
    {
      "cell_type": "code",
      "source": [
        "vid_users = {**j1,**j2,**j3,**j4,**j5,**j6,**j7,**j8,**j9,**s2,**s3,**w1,**w2,**aj,**axj,**lj,**nj,**rj,**ryj,**tj}"
      ],
      "metadata": {
        "id": "l2Zpdd4Z284d"
      },
      "execution_count": null,
      "outputs": []
    },
    {
      "cell_type": "code",
      "source": [
        "print(vid_users)"
      ],
      "metadata": {
        "colab": {
          "base_uri": "https://localhost:8080/"
        },
        "id": "rFwsK1u36jYS",
        "outputId": "0f8f88b2-b35a-4a45-8603-fc3349086b13"
      },
      "execution_count": null,
      "outputs": [
        {
          "output_type": "stream",
          "name": "stdout",
          "text": [
            "{'squats': [{'in_and_out': [78, 122, 150, 189, 209, 255, 325, 368, 392, 439, 551, 602, 620, 670, 685, 732, 748, 795, 865, 920, 990, 1038, 1050, 1099, 1112, 1160, 1170, 1216, 1379, 1424, 1432, 1473, 1485, 1535, 1550, 1593, 1620, 1666, 1745, 1777, 1790, 1823, 1835, 1872, 1882, 1920, 1931, 1964], 'class_label': ['correct', 'correct', 'correct', 'correct', 'correct', 'incorrect_chin_tuck', 'incorrect_chin_tuck', 'incorrect_chin_tuck', 'incorrect_chin_tuck', 'incorrect_lean_fwd', 'incorrect_lean_fwd', 'incorrect_lean_fwd', 'incorrect_lean_fwd', 'incorrect_lean_fwd', 'incorrect_feet_close', 'incorrect_feet_close', 'incorrect_feet_close', 'incorrect_feet_close', 'incorrect_feet_close', 'incorrect_not_low', 'incorrect_not_low', 'incorrect_not_low', 'incorrect_not_low', 'incorrect_not_low']}]}\n"
          ]
        }
      ]
    },
    {
      "cell_type": "code",
      "source": [
        "p1 = pd.DataFrame.from_dict(j1, orient='columns', dtype=None, columns=None)\n",
        "p2 = pd.DataFrame.from_dict(j2, orient='columns', dtype=None, columns=None)\n",
        "p3 = pd.DataFrame.from_dict(j3, orient='columns', dtype=None, columns=None)\n",
        "p4 = pd.DataFrame.from_dict(j4, orient='columns', dtype=None, columns=None)\n",
        "p5 = pd.DataFrame.from_dict(j5, orient='columns', dtype=None, columns=None)\n",
        "p6 = pd.DataFrame.from_dict(j6, orient='columns', dtype=None, columns=None)\n",
        "p7 = pd.DataFrame.from_dict(j7, orient='columns', dtype=None, columns=None)\n",
        "p8 = pd.DataFrame.from_dict(j8, orient='columns', dtype=None, columns=None)\n",
        "p9 = pd.DataFrame.from_dict(j9, orient='columns', dtype=None, columns=None)\n"
      ],
      "metadata": {
        "id": "zunYZIdv_6Rj"
      },
      "execution_count": null,
      "outputs": []
    },
    {
      "cell_type": "code",
      "source": [
        "newdf = [p1,p2,p3,p4,p5,p6,p7,p8,p9]\n",
        "neddd = pd.concat(newdf)\n",
        "print(neddd)"
      ],
      "metadata": {
        "colab": {
          "base_uri": "https://localhost:8080/"
        },
        "id": "kig_1w4PBO4G",
        "outputId": "31780fb6-1d6c-48e9-bb21-f7ec748feea8"
      },
      "execution_count": null,
      "outputs": [
        {
          "output_type": "stream",
          "name": "stdout",
          "text": [
            "                                              squats\n",
            "0  {'in_and_out': [45, 100, 108, 164, 170, 230, 2...\n",
            "0  {'in_and_out': [30, 91, 100, 150, 164, 213, 21...\n",
            "0  {'in_and_out': [67, 130, 144, 205, 218, 280, 2...\n",
            "0  {'in_and_out': [23, 82, 94, 153, 165, 228, 238...\n",
            "0  {'in_and_out': [20, 94, 110, 175, 194, 260, 27...\n",
            "0  {'in_and_out': [44, 117, 126, 194, 203, 262, 2...\n",
            "0  {'in_and_out': [39, 106, 117, 187, 200, 265, 2...\n",
            "0  {'in_and_out': [37, 90, 98, 150, 159, 212, 225...\n",
            "0  {'in_and_out': [29, 64, 72, 106, 115, 154, 158...\n"
          ]
        }
      ]
    },
    {
      "cell_type": "code",
      "source": [
        "neddd.head()"
      ],
      "metadata": {
        "colab": {
          "base_uri": "https://localhost:8080/",
          "height": 206
        },
        "id": "1xslt1_RDUWg",
        "outputId": "657a513c-d204-4b30-9815-7129b1d8a49e"
      },
      "execution_count": null,
      "outputs": [
        {
          "output_type": "execute_result",
          "data": {
            "text/plain": [
              "                                                        0\n",
              "squats  {'in_and_out': [45, 100, 108, 164, 170, 230, 2...\n",
              "squats  {'in_and_out': [30, 91, 100, 150, 164, 213, 21...\n",
              "squats  {'in_and_out': [67, 130, 144, 205, 218, 280, 2...\n",
              "squats  {'in_and_out': [23, 82, 94, 153, 165, 228, 238...\n",
              "squats  {'in_and_out': [20, 94, 110, 175, 194, 260, 27..."
            ],
            "text/html": [
              "\n",
              "  <div id=\"df-cf45ea1d-4ba9-4f4d-80fe-cb0f9bb618bb\">\n",
              "    <div class=\"colab-df-container\">\n",
              "      <div>\n",
              "<style scoped>\n",
              "    .dataframe tbody tr th:only-of-type {\n",
              "        vertical-align: middle;\n",
              "    }\n",
              "\n",
              "    .dataframe tbody tr th {\n",
              "        vertical-align: top;\n",
              "    }\n",
              "\n",
              "    .dataframe thead th {\n",
              "        text-align: right;\n",
              "    }\n",
              "</style>\n",
              "<table border=\"1\" class=\"dataframe\">\n",
              "  <thead>\n",
              "    <tr style=\"text-align: right;\">\n",
              "      <th></th>\n",
              "      <th>0</th>\n",
              "    </tr>\n",
              "  </thead>\n",
              "  <tbody>\n",
              "    <tr>\n",
              "      <th>squats</th>\n",
              "      <td>{'in_and_out': [45, 100, 108, 164, 170, 230, 2...</td>\n",
              "    </tr>\n",
              "    <tr>\n",
              "      <th>squats</th>\n",
              "      <td>{'in_and_out': [30, 91, 100, 150, 164, 213, 21...</td>\n",
              "    </tr>\n",
              "    <tr>\n",
              "      <th>squats</th>\n",
              "      <td>{'in_and_out': [67, 130, 144, 205, 218, 280, 2...</td>\n",
              "    </tr>\n",
              "    <tr>\n",
              "      <th>squats</th>\n",
              "      <td>{'in_and_out': [23, 82, 94, 153, 165, 228, 238...</td>\n",
              "    </tr>\n",
              "    <tr>\n",
              "      <th>squats</th>\n",
              "      <td>{'in_and_out': [20, 94, 110, 175, 194, 260, 27...</td>\n",
              "    </tr>\n",
              "  </tbody>\n",
              "</table>\n",
              "</div>\n",
              "      <button class=\"colab-df-convert\" onclick=\"convertToInteractive('df-cf45ea1d-4ba9-4f4d-80fe-cb0f9bb618bb')\"\n",
              "              title=\"Convert this dataframe to an interactive table.\"\n",
              "              style=\"display:none;\">\n",
              "        \n",
              "  <svg xmlns=\"http://www.w3.org/2000/svg\" height=\"24px\"viewBox=\"0 0 24 24\"\n",
              "       width=\"24px\">\n",
              "    <path d=\"M0 0h24v24H0V0z\" fill=\"none\"/>\n",
              "    <path d=\"M18.56 5.44l.94 2.06.94-2.06 2.06-.94-2.06-.94-.94-2.06-.94 2.06-2.06.94zm-11 1L8.5 8.5l.94-2.06 2.06-.94-2.06-.94L8.5 2.5l-.94 2.06-2.06.94zm10 10l.94 2.06.94-2.06 2.06-.94-2.06-.94-.94-2.06-.94 2.06-2.06.94z\"/><path d=\"M17.41 7.96l-1.37-1.37c-.4-.4-.92-.59-1.43-.59-.52 0-1.04.2-1.43.59L10.3 9.45l-7.72 7.72c-.78.78-.78 2.05 0 2.83L4 21.41c.39.39.9.59 1.41.59.51 0 1.02-.2 1.41-.59l7.78-7.78 2.81-2.81c.8-.78.8-2.07 0-2.86zM5.41 20L4 18.59l7.72-7.72 1.47 1.35L5.41 20z\"/>\n",
              "  </svg>\n",
              "      </button>\n",
              "      \n",
              "  <style>\n",
              "    .colab-df-container {\n",
              "      display:flex;\n",
              "      flex-wrap:wrap;\n",
              "      gap: 12px;\n",
              "    }\n",
              "\n",
              "    .colab-df-convert {\n",
              "      background-color: #E8F0FE;\n",
              "      border: none;\n",
              "      border-radius: 50%;\n",
              "      cursor: pointer;\n",
              "      display: none;\n",
              "      fill: #1967D2;\n",
              "      height: 32px;\n",
              "      padding: 0 0 0 0;\n",
              "      width: 32px;\n",
              "    }\n",
              "\n",
              "    .colab-df-convert:hover {\n",
              "      background-color: #E2EBFA;\n",
              "      box-shadow: 0px 1px 2px rgba(60, 64, 67, 0.3), 0px 1px 3px 1px rgba(60, 64, 67, 0.15);\n",
              "      fill: #174EA6;\n",
              "    }\n",
              "\n",
              "    [theme=dark] .colab-df-convert {\n",
              "      background-color: #3B4455;\n",
              "      fill: #D2E3FC;\n",
              "    }\n",
              "\n",
              "    [theme=dark] .colab-df-convert:hover {\n",
              "      background-color: #434B5C;\n",
              "      box-shadow: 0px 1px 3px 1px rgba(0, 0, 0, 0.15);\n",
              "      filter: drop-shadow(0px 1px 2px rgba(0, 0, 0, 0.3));\n",
              "      fill: #FFFFFF;\n",
              "    }\n",
              "  </style>\n",
              "\n",
              "      <script>\n",
              "        const buttonEl =\n",
              "          document.querySelector('#df-cf45ea1d-4ba9-4f4d-80fe-cb0f9bb618bb button.colab-df-convert');\n",
              "        buttonEl.style.display =\n",
              "          google.colab.kernel.accessAllowed ? 'block' : 'none';\n",
              "\n",
              "        async function convertToInteractive(key) {\n",
              "          const element = document.querySelector('#df-cf45ea1d-4ba9-4f4d-80fe-cb0f9bb618bb');\n",
              "          const dataTable =\n",
              "            await google.colab.kernel.invokeFunction('convertToInteractive',\n",
              "                                                     [key], {});\n",
              "          if (!dataTable) return;\n",
              "\n",
              "          const docLinkHtml = 'Like what you see? Visit the ' +\n",
              "            '<a target=\"_blank\" href=https://colab.research.google.com/notebooks/data_table.ipynb>data table notebook</a>'\n",
              "            + ' to learn more about interactive tables.';\n",
              "          element.innerHTML = '';\n",
              "          dataTable['output_type'] = 'display_data';\n",
              "          await google.colab.output.renderOutput(dataTable, element);\n",
              "          const docLink = document.createElement('div');\n",
              "          docLink.innerHTML = docLinkHtml;\n",
              "          element.appendChild(docLink);\n",
              "        }\n",
              "      </script>\n",
              "    </div>\n",
              "  </div>\n",
              "  "
            ]
          },
          "metadata": {},
          "execution_count": 38
        }
      ]
    }
  ]
}